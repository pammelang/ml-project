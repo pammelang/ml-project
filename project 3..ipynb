{
 "cells": [
  {
   "cell_type": "code",
   "execution_count": 3,
   "metadata": {},
   "outputs": [
    {
     "name": "stdout",
     "output_type": "stream",
     "text": [
      "[['O', 'O', 'B-neutral', 'O', 'B-neutral', 'O'], ['O', 'O', 'B-positive', 'O', 'O', 'O', 'O', 'O', 'O', 'O', 'O', 'O', 'O', 'O', 'O', 'O', 'O'], ['B-neutral', 'O', 'O', 'O', 'O', 'O', 'O', 'O', 'O', 'O', 'O', 'O', 'O', 'O', 'O', 'O', 'O', 'O', 'O', 'O']]\n",
      "[[0.6666666666666666, 0.8461538461538461, 0.8461538461538461, 0.05128205128205128, 1.0, 0.05128205128205128, 1.0], [0.6666666666666666, 0.8461538461538461, 0.8461538461538461, 0.02564102564102564, 1.0, 0.8461538461538461, 0.8461538461538461, 0.8461538461538461, 0.8461538461538461, 0.8461538461538461, 0.8461538461538461, 0.8461538461538461, 0.8461538461538461, 0.8461538461538461, 0.8461538461538461, 0.8461538461538461, 0.8461538461538461, 0.8461538461538461], [0.05128205128205128, 0.3333333333333333, 1.0, 0.8461538461538461, 0.8461538461538461, 0.8461538461538461, 0.8461538461538461, 0.8461538461538461, 0.8461538461538461, 0.8461538461538461, 0.8461538461538461, 0.8461538461538461, 0.8461538461538461, 0.8461538461538461, 0.8461538461538461, 0.8461538461538461, 0.8461538461538461, 0.8461538461538461, 0.8461538461538461, 0.8461538461538461, 0.8461538461538461]]\n"
     ]
    }
   ],
   "source": [
    "import numpy as np\n",
    "import matplotlib.pyplot as plt\n",
    "\n",
    "with open('train') as f:\n",
    "    data = f.read().splitlines()\n",
    "X, Y, x, y = [], [], [], [] \n",
    "\n",
    "for i in data[:50]: \n",
    "    if i != '':\n",
    "        o = i.split(' ', 2)\n",
    "        x.append(o[0])\n",
    "        y.append(o[1])\n",
    "    else:\n",
    "        X.append(x)\n",
    "        Y.append(y)\n",
    "        x, y = [], []\n",
    "print(Y)\n",
    "\n",
    "def get_trans_params(Y):\n",
    "    count, permutations, result = [['START', 'STOP'],[0,0]], [], []\n",
    "    # permutations = a set of tuples (i, j, count) - eg [['START', 'O', 32], ..]\n",
    "    # count = (labels, count) - eg [['START', 'A'], [20, 12]]\n",
    "    for i in range(len(Y)): \n",
    "        for j in range(len(Y[i])): \n",
    "            label = Y[i][j]\n",
    "\n",
    "            ### to increment count \n",
    "            if j == 0: # START\n",
    "                count[1][0] += 1\n",
    "            elif j == len(Y[i])-1 :  # STOP\n",
    "                count[1][1] += 1\n",
    "            if label not in count[0]: # if label not yet in labels\n",
    "                count[0].append(label)\n",
    "                count[1].append(1)\n",
    "            else: \n",
    "                index = count[0].index(label)\n",
    "                count[1][index] += 1 \n",
    "            \n",
    "            # to increment permutation\n",
    "            foundFlag = False\n",
    "            if not permutations: \n",
    "                permutations.append(['START', Y[i][j], 1])\n",
    "                foundFlag = True\n",
    "                continue\n",
    "            for p in permutations: \n",
    "                if j != 0 and Y[i][j-1] == p[0] and Y[i][j] == p[1]:\n",
    "                    p[2] += 1 # if the permutation is found\n",
    "                    foundFlag = True\n",
    "                    break\n",
    "                elif j == 0 and p[0] == 'START' and Y[i][j] == p[1]:\n",
    "                    p[2] += 1 \n",
    "                    foundFlag = True\n",
    "                    break\n",
    "                elif j == len(Y[i]) - 1 and Y[i][j] == p[0] and p[1] == 'STOP':\n",
    "                    p[2] +=1 \n",
    "                    foundFlag = True\n",
    "                    break\n",
    "                else: continue \n",
    "            if foundFlag == False: \n",
    "                if j == 0: \n",
    "                    new_p = ['START', Y[i][j], 1]\n",
    "                    permutations.append(new_p)\n",
    "                elif j == len(Y[i]) - 1: \n",
    "                    new_p = [Y[i][j], 'STOP', 1]\n",
    "                    permutations.append(new_p)\n",
    "                else: \n",
    "                    new_p = [Y[i][j-1], Y[i][j], 1]\n",
    "                    permutations.append(new_p)  \n",
    "\n",
    "    for i in range(len(Y)): \n",
    "        result.append([])\n",
    "        for j in range(len(Y[i])): \n",
    "            for p in permutations: \n",
    "                if j == 0 and p[0] == 'START' and p[1] == Y[i][j]:\n",
    "                    result[i].append(p[2]/count[1][0])\n",
    "                    \n",
    "                if p[0]== Y[i][j-1] and p[1] == Y[i][j]:\n",
    "                    result[i].append(p[2]/count[1][count[0].index(p[0])])\n",
    "\n",
    "                if j == len(Y[i])-1 and p[0] == Y[i][j] and p[1] == 'STOP': \n",
    "                    result[i].append(p[2]/count[1][1])    \n",
    "    return result\n",
    "\n",
    "print(get_trans_params(Y))                \n",
    "\n"
   ]
  },
  {
   "cell_type": "code",
   "execution_count": null,
   "metadata": {
    "collapsed": true
   },
   "outputs": [],
   "source": []
  }
 ],
 "metadata": {
  "kernelspec": {
   "display_name": "Python 3",
   "language": "python",
   "name": "python3"
  },
  "language_info": {
   "codemirror_mode": {
    "name": "ipython",
    "version": 3
   },
   "file_extension": ".py",
   "mimetype": "text/x-python",
   "name": "python",
   "nbconvert_exporter": "python",
   "pygments_lexer": "ipython3",
   "version": "3.6.1"
  }
 },
 "nbformat": 4,
 "nbformat_minor": 2
}
