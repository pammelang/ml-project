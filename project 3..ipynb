{
 "cells": [
  {
   "cell_type": "code",
   "execution_count": 2,
   "metadata": {},
   "outputs": [
    {
     "name": "stdout",
     "output_type": "stream",
     "text": [
      "[['Happy', 'week', '(', 'end', ')', '#UNK#', 'with', 'Jumna', 'at', 'Diamond', 'City', '(', 'DC', '#UNK#', 'Mall', ')', '—', 'https://t.co/KeHKnPNjoq'], ['my', 'mum', 'mixed', 'matcha', '#UNK#', 'latte', 'for', 'breakfast', ':', '\"', ')', 'what', 'a', 'great', 'start'], ['Kinda', 'sad', 'that', 'anytime', 'we', 'talk', 'about', '#Ghostbusters', 'now', 'is', 'to', 'make', 'fun', 'and', 'laugh', '#UNK#', 'the', 'movie', '#UNK#', '#UNK#', 'ridiculous', 'shit', 'in', 'it', '#NomoreSJWremakes'], ['The', 'Friday', '#vinyl', 'club', '#UNK#', 'spinning', 'the', 'classic', 'Fleetwood', 'Mac', 'album', 'Rumours', 'tmrw', '.'], ['@helsbels1181', 'Thankyou', 'very', 'much', 'Helen', ',', 'Everyones', 'kind', 'words', 'and', 'prayers', 'are', 'really', 'appreciated', 'x'], ['I', 'feel', 'like', 'the', 'underrated', 'actors', 'on', '#chicagopd', '#UNK#', 'the', 'show', '#UNK#', 'Amy', '#UNK#', 'LaRoyce', ',', 'Burgess', '...'], ['@elllleeeenn', 'and', 'im', 'gonna', 'shine', 'homie', 'until', '#UNK#', 'heart', 'stop'], ['Tcu', 'Lowkey', 'IS', 'my', 'dream', 'college', '..', 'just', 'waiting', '#UNK#', 'go', 'visit'], ['@Stephen_Georg', 'Hey', ',', 'do', 'you', 'still', 'collect', 'Earthbound', 'carts', '?', 'If', 'so', ',', '#UNK#', 'think', 'this', 'is', '#UNK#', 'good', 'deal', ',', 'but', 'I', 'may', 'be', 'wrong', '.', 'https://t.co/gxxhvbrSIN'], ['while', 'LSM', 'ignores', 'wikileaks', ',', \"let's\", 'remember', '#UNK#', '#UNK#', 'This', 'election', 'is', 'not', '#UNK#', 'Donald', 'J', '.', 'Trump', \"'\", 's', 'past', ',', \"it's\", 'about', 'America', '#UNK#', '#UNK#', 'future', '.', '\"'], ['@EddiedeOliveira', 'Do', '#UNK#', 'have', 'a', 'Google', 'Chromecast', '#UNK#', 'Microsoft', 'Edge', 'supports', '#UNK#', '.'], [\"'\", 'gorilla', \"'\", 'is', '#UNK#', 'trending', '#UNK#', '#NewcastleUponTyne', 'https://t.co/v2wRy7UTqE'], ['@hobbitj', \"you'll\", '#UNK#', 'to', 'express', '#UNK#', 'in', 'meme', 'form', 'or', 'I', \"can't\", 'digest', 'it', ',', 'sorry', '.', 'Maybe', 'a', 'Vine', '?'], ['So', 'World', 'CM', 'Kejri', 'had', 'tongue', 'abnormality', '#UNK#', 'years', 'and', '#UNK#', 'thought', 'he', 'was', '#UNK#', 'cheap', 'weed.Sorry', 'Saktimaan', '@ggiittiikkaa', '@RituRathaur'], ['@realDonaldTrump', 'STAY', 'ON', 'POINT', 'AND', '#UNK#', 'FOCUSED', '#UNK#', 'FROSTY', 'MR', 'TRUMP', 'YOU', 'CAN', 'DO', 'THIS', '.', 'STOP', 'THE', 'SQUABBLING', 'WITH', '#UNK#', 'REPUBLICANS', 'RUNNING'], ['Cmass', 'is', '#UNK#', 'dry', '...', 'Class', 'of', '2016', 'wyaa']]\n"
     ]
    },
    {
     "ename": "ValueError",
     "evalue": "max() arg is an empty sequence",
     "output_type": "error",
     "traceback": [
      "\u001b[0;31m---------------------------------------------------------------------------\u001b[0m",
      "\u001b[0;31mValueError\u001b[0m                                Traceback (most recent call last)",
      "\u001b[0;32m<ipython-input-2-8cb6f9491242>\u001b[0m in \u001b[0;36m<module>\u001b[0;34m()\u001b[0m\n\u001b[1;32m      2\u001b[0m \u001b[0;34m\u001b[0m\u001b[0m\n\u001b[1;32m      3\u001b[0m \u001b[0me\u001b[0m \u001b[0;34m=\u001b[0m \u001b[0mem\u001b[0m\u001b[0;34m.\u001b[0m\u001b[0memission\u001b[0m\u001b[0;34m(\u001b[0m\u001b[0;34m)\u001b[0m\u001b[0;34m\u001b[0m\u001b[0m\n\u001b[0;32m----> 4\u001b[0;31m \u001b[0me\u001b[0m\u001b[0;34m.\u001b[0m\u001b[0mprint_out\u001b[0m\u001b[0;34m(\u001b[0m\u001b[0;34m'train'\u001b[0m\u001b[0;34m,\u001b[0m \u001b[0;34m'dev.in'\u001b[0m\u001b[0;34m,\u001b[0m \u001b[0;34m'dev.p2.out'\u001b[0m\u001b[0;34m)\u001b[0m\u001b[0;34m\u001b[0m\u001b[0m\n\u001b[0m\u001b[1;32m      5\u001b[0m \u001b[0;34m\u001b[0m\u001b[0m\n\u001b[1;32m      6\u001b[0m \u001b[0;32mdef\u001b[0m \u001b[0mviterbi\u001b[0m\u001b[0;34m(\u001b[0m\u001b[0mobs\u001b[0m\u001b[0;34m)\u001b[0m\u001b[0;34m:\u001b[0m\u001b[0;34m\u001b[0m\u001b[0m\n",
      "\u001b[0;32m/Users/admin/Desktop/school/ml/SG/emission.py\u001b[0m in \u001b[0;36mprint_out\u001b[0;34m(self, train, infile, outfile)\u001b[0m\n\u001b[1;32m    110\u001b[0m         \u001b[0mself\u001b[0m\u001b[0;34m.\u001b[0m\u001b[0mget_emission_prob\u001b[0m\u001b[0;34m(\u001b[0m\u001b[0mself\u001b[0m\u001b[0;34m.\u001b[0m\u001b[0mX\u001b[0m\u001b[0;34m,\u001b[0m \u001b[0mself\u001b[0m\u001b[0;34m.\u001b[0m\u001b[0mY\u001b[0m\u001b[0;34m)\u001b[0m\u001b[0;34m\u001b[0m\u001b[0m\n\u001b[1;32m    111\u001b[0m         \u001b[0mprint\u001b[0m\u001b[0;34m(\u001b[0m\u001b[0mself\u001b[0m\u001b[0;34m.\u001b[0m\u001b[0mtokenizedX\u001b[0m\u001b[0;34m)\u001b[0m\u001b[0;34m\u001b[0m\u001b[0m\n\u001b[0;32m--> 112\u001b[0;31m         \u001b[0mself\u001b[0m\u001b[0;34m.\u001b[0m\u001b[0mget_opt_tags\u001b[0m\u001b[0;34m(\u001b[0m\u001b[0mself\u001b[0m\u001b[0;34m.\u001b[0m\u001b[0mtokenizedX\u001b[0m\u001b[0;34m,\u001b[0m \u001b[0mself\u001b[0m\u001b[0;34m.\u001b[0m\u001b[0mprob\u001b[0m\u001b[0;34m)\u001b[0m\u001b[0;34m\u001b[0m\u001b[0m\n\u001b[0m\u001b[1;32m    113\u001b[0m \u001b[0;34m\u001b[0m\u001b[0m\n\u001b[1;32m    114\u001b[0m         \u001b[0moutfile\u001b[0m \u001b[0;34m=\u001b[0m \u001b[0mopen\u001b[0m\u001b[0;34m(\u001b[0m\u001b[0moutfile\u001b[0m\u001b[0;34m,\u001b[0m \u001b[0;34m'w'\u001b[0m\u001b[0;34m)\u001b[0m\u001b[0;34m\u001b[0m\u001b[0m\n",
      "\u001b[0;32m/Users/admin/Desktop/school/ml/SG/emission.py\u001b[0m in \u001b[0;36mget_opt_tags\u001b[0;34m(self, X, emParams)\u001b[0m\n\u001b[1;32m    101\u001b[0m                         \u001b[0mtemp\u001b[0m\u001b[0;34m[\u001b[0m\u001b[0mlabel\u001b[0m\u001b[0;34m]\u001b[0m \u001b[0;34m=\u001b[0m \u001b[0memParams\u001b[0m\u001b[0;34m[\u001b[0m\u001b[0mlabel\u001b[0m\u001b[0;34m]\u001b[0m\u001b[0;34m[\u001b[0m\u001b[0mobs\u001b[0m\u001b[0;34m]\u001b[0m\u001b[0;34m\u001b[0m\u001b[0m\n\u001b[1;32m    102\u001b[0m \u001b[0;34m\u001b[0m\u001b[0m\n\u001b[0;32m--> 103\u001b[0;31m                 \u001b[0mresult\u001b[0m\u001b[0;34m[\u001b[0m\u001b[0mi\u001b[0m\u001b[0;34m]\u001b[0m\u001b[0;34m.\u001b[0m\u001b[0mappend\u001b[0m\u001b[0;34m(\u001b[0m\u001b[0mmax\u001b[0m\u001b[0;34m(\u001b[0m\u001b[0mtemp\u001b[0m\u001b[0;34m,\u001b[0m \u001b[0mkey\u001b[0m\u001b[0;34m=\u001b[0m\u001b[0mtemp\u001b[0m\u001b[0;34m.\u001b[0m\u001b[0mget\u001b[0m\u001b[0;34m)\u001b[0m\u001b[0;34m)\u001b[0m\u001b[0;34m\u001b[0m\u001b[0m\n\u001b[0m\u001b[1;32m    104\u001b[0m         \u001b[0mself\u001b[0m\u001b[0;34m.\u001b[0m\u001b[0moptY\u001b[0m \u001b[0;34m=\u001b[0m \u001b[0mresult\u001b[0m\u001b[0;34m\u001b[0m\u001b[0m\n\u001b[1;32m    105\u001b[0m \u001b[0;34m\u001b[0m\u001b[0m\n",
      "\u001b[0;31mValueError\u001b[0m: max() arg is an empty sequence"
     ]
    }
   ],
   "source": [
    "import emission as em\n",
    "\n",
    "e = em.emission()\n",
    "e.print_out('train', 'dev.in', 'dev.p2.out')\n",
    "\n",
    "\n"
   ]
  },
  {
   "cell_type": "code",
   "execution_count": null,
   "metadata": {
    "collapsed": true
   },
   "outputs": [],
   "source": []
  }
 ],
 "metadata": {
  "kernelspec": {
   "display_name": "Python 3",
   "language": "python",
   "name": "python3"
  },
  "language_info": {
   "codemirror_mode": {
    "name": "ipython",
    "version": 3
   },
   "file_extension": ".py",
   "mimetype": "text/x-python",
   "name": "python",
   "nbconvert_exporter": "python",
   "pygments_lexer": "ipython3",
   "version": "3.6.1"
  }
 },
 "nbformat": 4,
 "nbformat_minor": 2
}
